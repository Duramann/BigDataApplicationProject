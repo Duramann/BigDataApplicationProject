{
 "cells": [
  {
   "cell_type": "markdown",
   "id": "a5d04f4f-af7f-44bd-b69a-0d118c687a02",
   "metadata": {},
   "source": [
    "# DATA CLEANING & FEATURE ENGINEERING- NOUAR Alexandre & DURA Théo"
   ]
  },
  {
   "cell_type": "markdown",
   "id": "9b38259a-288d-4ae6-91d7-3738b7ef1374",
   "metadata": {},
   "source": [
    "The goal of this notebook is see how to clean the data and to do the feature engineering"
   ]
  },
  {
   "cell_type": "code",
   "execution_count": 6,
   "id": "99e1cd7c-d186-46b4-b670-9bc0d179675d",
   "metadata": {},
   "outputs": [],
   "source": [
    "import pandas as pd\n",
    "import numpy as np"
   ]
  },
  {
   "cell_type": "code",
   "execution_count": 117,
   "id": "b05c7060-94ff-424a-92b5-d1ba9904d717",
   "metadata": {},
   "outputs": [],
   "source": [
    "test_df = pd.read_csv('../data/raw/raw_test_data.csv')\n",
    "train_df = pd.read_csv('../data/raw/raw_train_data.csv')"
   ]
  },
  {
   "cell_type": "code",
   "execution_count": 118,
   "id": "d8054493-bec4-42f3-b4ce-8bf26143a592",
   "metadata": {},
   "outputs": [],
   "source": [
    "#x_train = train_df.drop(['TARGET'], axis=1)\n",
    "#y_train = train_df['TARGET']\n",
    "\n",
    "#x_test = test_df"
   ]
  },
  {
   "cell_type": "code",
   "execution_count": 128,
   "id": "36df7f25-a3f5-4aeb-9060-8b11258bf6c6",
   "metadata": {},
   "outputs": [
    {
     "name": "stdout",
     "output_type": "stream",
     "text": [
      "(307511, 122) (25820, 101)\n"
     ]
    }
   ],
   "source": [
    "print(train_df.shape, test_df.shape)"
   ]
  },
  {
   "cell_type": "markdown",
   "id": "8faf8b8a-7dcb-4a96-951f-273ec9213ee0",
   "metadata": {},
   "source": [
    "## Dealing with missing values :"
   ]
  },
  {
   "cell_type": "markdown",
   "id": "0b45a0bb-5252-4417-8c76-817aff6f4592",
   "metadata": {},
   "source": [
    "Since there is a lot of missing values, we can't just drop them all as we will go from 300 000+ row to only 30 000."
   ]
  },
  {
   "cell_type": "markdown",
   "id": "07ac1ee5-a0da-4e00-9e9a-cb597892fd7a",
   "metadata": {},
   "source": [
    "First we will drop the columns with more than 60% missing values:"
   ]
  },
  {
   "cell_type": "code",
   "execution_count": 29,
   "id": "18dd4107-ed54-4c6b-a187-f5e262d718e1",
   "metadata": {},
   "outputs": [],
   "source": [
    "def missing_values_columns(df):\n",
    "        # count the total number of missing value in the dataframe\n",
    "        missing = df.isnull().sum()\n",
    "\n",
    "        # Makes it a percentage\n",
    "        percent = 100 * df.isnull().sum() / len(df)\n",
    "        \n",
    "        # Make a table with the results\n",
    "        table = pd.concat([missing, percent], axis=1)\n",
    "        \n",
    "        # Rename the columns\n",
    "        table_rename = table.rename(columns = {0: 'Number of missing values',1: '% of Total Values'})\n",
    "        \n",
    "        return table_rename[table_rename['% of Total Values'] > 59].index"
   ]
  },
  {
   "cell_type": "code",
   "execution_count": 132,
   "id": "bff3ebfe-76ba-4ebe-82f6-7aeae8f7d9ed",
   "metadata": {},
   "outputs": [],
   "source": [
    "train_todrop = missing_values_columns(train_df)\n",
    "test_todrop = missing_values_columns(test_df)"
   ]
  },
  {
   "cell_type": "code",
   "execution_count": 133,
   "id": "75cde258-2d5f-41fa-984c-12f75c27d0e3",
   "metadata": {},
   "outputs": [],
   "source": [
    "if len(train_todrop)>len(test_todrop):\n",
    "    todrop = train_todrop;\n",
    "else:\n",
    "    todrop = test_todrop"
   ]
  },
  {
   "cell_type": "code",
   "execution_count": 134,
   "id": "e0b27970-e524-4c28-b53d-c173787fbd45",
   "metadata": {},
   "outputs": [],
   "source": [
    "train_df.drop(todrop, axis=1, inplace=True)\n",
    "test_df.drop(todrop, axis=1, inplace=True)"
   ]
  },
  {
   "cell_type": "code",
   "execution_count": 135,
   "id": "8a830953-2a5d-45e2-b49c-f56a3c74e3e2",
   "metadata": {},
   "outputs": [
    {
     "name": "stdout",
     "output_type": "stream",
     "text": [
      "(307511, 102) (25820, 101)\n"
     ]
    }
   ],
   "source": [
    "print(train_df.shape, test_df.shape)"
   ]
  },
  {
   "cell_type": "markdown",
   "id": "5488a991-9f32-49fc-9f8b-adc559335c29",
   "metadata": {},
   "source": [
    "Now we will drop the rows that contains more than 80% of missing values as they are irrelevent"
   ]
  },
  {
   "cell_type": "code",
   "execution_count": 136,
   "id": "5833c655-d6fc-4b4c-b6a8-9b27978a8a2e",
   "metadata": {},
   "outputs": [],
   "source": [
    "train_df.dropna(axis = 0, how = 'any', thresh = int(train_df.shape[1]*0.8),inplace=True)\n",
    "test_df.dropna(axis = 0, how = 'any', thresh = int(test_df.shape[1]*0.8),inplace=True)"
   ]
  },
  {
   "cell_type": "code",
   "execution_count": 137,
   "id": "2ffd707a-e900-452f-9b9e-a6d898493c42",
   "metadata": {},
   "outputs": [
    {
     "name": "stdout",
     "output_type": "stream",
     "text": [
      "(157036, 102) (25820, 101)\n"
     ]
    }
   ],
   "source": [
    "print(train_df.shape, test_df.shape)"
   ]
  },
  {
   "cell_type": "markdown",
   "id": "2d2d3b6b-93d1-4be8-9a62-7c5b11986e2d",
   "metadata": {},
   "source": [
    "We are gonna replace every missing values in the qualitative columns by the mode:"
   ]
  },
  {
   "cell_type": "code",
   "execution_count": 142,
   "id": "222e68d9-88cc-4c74-a392-c29c07561e9f",
   "metadata": {},
   "outputs": [],
   "source": [
    "qualitative_c = test_df.select_dtypes(include=[object]).columns"
   ]
  },
  {
   "cell_type": "code",
   "execution_count": 201,
   "id": "e85a291a-a4a8-4a56-880d-1fbdebb04b3a",
   "metadata": {},
   "outputs": [],
   "source": [
    "for col in qualitative_c:\n",
    "    train_df[col] = train_df[col].fillna(train_df[col].mode(dropna=True)[0])\n",
    "    test_df[col] = test_df[col].fillna(test_df[col].mode(dropna=True)[0])"
   ]
  },
  {
   "cell_type": "markdown",
   "id": "d51a854c-f905-4b26-890f-7f752b834cc2",
   "metadata": {},
   "source": [
    "Then every missing values in quantitative columns will be replaced by the median:"
   ]
  },
  {
   "cell_type": "code",
   "execution_count": 145,
   "id": "82e65afa-f500-482c-bd4e-ea59a08cbce3",
   "metadata": {},
   "outputs": [],
   "source": [
    "quantitative_c = test_df.select_dtypes(include=[int,float]).columns"
   ]
  },
  {
   "cell_type": "code",
   "execution_count": 146,
   "id": "af0bfd3e-6bcd-4896-bada-7a55c8e4fd68",
   "metadata": {},
   "outputs": [],
   "source": [
    "for col in quantitative_c:\n",
    "    train_df[col] = train_df[col].fillna(train_df[col].median())\n",
    "    test_df[col] = test_df[col].fillna(test_df[col].median())"
   ]
  },
  {
   "cell_type": "code",
   "execution_count": 206,
   "id": "4b470808-7356-4c87-ade3-87395cd04f66",
   "metadata": {},
   "outputs": [
    {
     "name": "stdout",
     "output_type": "stream",
     "text": [
      "[] []\n"
     ]
    }
   ],
   "source": [
    "print(train_df.columns[train_df.isna().any()].tolist(), test_df.columns[test_df.isna().any()].tolist())"
   ]
  },
  {
   "cell_type": "markdown",
   "id": "f9a60d68-a1b3-4c2f-9ec4-1cf014c48862",
   "metadata": {},
   "source": [
    "## Feature Engineering :"
   ]
  },
  {
   "cell_type": "code",
   "execution_count": null,
   "id": "501437a0-fb8e-49ac-a416-fe70992e365d",
   "metadata": {},
   "outputs": [],
   "source": []
  }
 ],
 "metadata": {
  "kernelspec": {
   "display_name": "Python 3 (ipykernel)",
   "language": "python",
   "name": "python3"
  },
  "language_info": {
   "codemirror_mode": {
    "name": "ipython",
    "version": 3
   },
   "file_extension": ".py",
   "mimetype": "text/x-python",
   "name": "python",
   "nbconvert_exporter": "python",
   "pygments_lexer": "ipython3",
   "version": "3.9.0"
  }
 },
 "nbformat": 4,
 "nbformat_minor": 5
}
