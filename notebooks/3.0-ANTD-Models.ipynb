{
 "cells": [
  {
   "cell_type": "markdown",
   "id": "f777baf0-c9e7-4c23-889b-eceebd3aae24",
   "metadata": {},
   "source": [
    "# MODELS BUILDING, TRAINING AND TESTING- NOUAR Alexandre & DURA Théo"
   ]
  },
  {
   "cell_type": "markdown",
   "id": "c8369914-56e9-4c0e-b1de-0b4a7b327f20",
   "metadata": {},
   "source": [
    "## Imports and data :"
   ]
  },
  {
   "cell_type": "code",
   "execution_count": 2,
   "id": "0f63a31c-5712-49d8-b859-2e2da7b6ddbe",
   "metadata": {},
   "outputs": [],
   "source": [
    "import pandas as pd"
   ]
  },
  {
   "cell_type": "code",
   "execution_count": 4,
   "id": "8b685c8d-3a95-48cc-a165-df1373806cab",
   "metadata": {},
   "outputs": [],
   "source": [
    "df_train = pd.read_csv('../data/processed/train_data.csv')\n",
    "df_test = pd.read_csv('../data/processed/test_data.csv')"
   ]
  },
  {
   "cell_type": "code",
   "execution_count": 13,
   "id": "9f167b67-284f-4fec-94a1-0475aed7df8d",
   "metadata": {},
   "outputs": [],
   "source": [
    "x_train = df_train.drop(columns = ['TARGET', 'Unnamed: 0'])\n",
    "y_train = df_train['TARGET']\n",
    "\n",
    "x_test = df_test.drop(columns=['Unnamed: 0'])"
   ]
  },
  {
   "cell_type": "code",
   "execution_count": 15,
   "id": "b1c44006-e9c4-48ff-b635-1b5a33d2bfbf",
   "metadata": {},
   "outputs": [
    {
     "name": "stdout",
     "output_type": "stream",
     "text": [
      "(157036, 216) (157036,) (25820, 216)\n"
     ]
    }
   ],
   "source": [
    "print(x_train.shape, y_train.shape, x_test.shape)"
   ]
  },
  {
   "cell_type": "markdown",
   "id": "536bf3d8-b787-418b-b0f4-ebe6f91b9482",
   "metadata": {},
   "source": [
    "## XGBOOST :"
   ]
  },
  {
   "cell_type": "code",
   "execution_count": null,
   "id": "17f66488-7b57-4968-95d8-88d52481cfdf",
   "metadata": {},
   "outputs": [],
   "source": []
  }
 ],
 "metadata": {
  "kernelspec": {
   "display_name": "Python 3 (ipykernel)",
   "language": "python",
   "name": "python3"
  },
  "language_info": {
   "codemirror_mode": {
    "name": "ipython",
    "version": 3
   },
   "file_extension": ".py",
   "mimetype": "text/x-python",
   "name": "python",
   "nbconvert_exporter": "python",
   "pygments_lexer": "ipython3",
   "version": "3.9.0"
  }
 },
 "nbformat": 4,
 "nbformat_minor": 5
}
