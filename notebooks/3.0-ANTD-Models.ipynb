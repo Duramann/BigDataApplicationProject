{
 "cells": [
  {
   "cell_type": "markdown",
   "id": "f777baf0-c9e7-4c23-889b-eceebd3aae24",
   "metadata": {},
   "source": [
    "# MODELS BUILDING, TRAINING AND TESTING - NOUAR Alexandre & DURA Théo"
   ]
  },
  {
   "cell_type": "markdown",
   "id": "c8369914-56e9-4c0e-b1de-0b4a7b327f20",
   "metadata": {},
   "source": [
    "## Imports and data :"
   ]
  },
  {
   "cell_type": "code",
   "execution_count": 1,
   "id": "0f63a31c-5712-49d8-b859-2e2da7b6ddbe",
   "metadata": {},
   "outputs": [],
   "source": [
    "import pandas as pd\n",
    "from sklearn.model_selection import train_test_split\n",
    "import seaborn as sb\n",
    "import numpy as np\n",
    "import pickle\n",
    "import matplotlib.pyplot\n",
    "\n",
    "from sklearn.metrics import accuracy_score\n",
    "from sklearn.metrics import precision_score\n",
    "\n",
    "import mlflow\n",
    "import mlflow.xgboost"
   ]
  },
  {
   "cell_type": "markdown",
   "id": "5acfdebd-27f5-448d-a568-6dcaaf6b733f",
   "metadata": {},
   "source": [
    "Import datasets"
   ]
  },
  {
   "cell_type": "code",
   "execution_count": 2,
   "id": "8b685c8d-3a95-48cc-a165-df1373806cab",
   "metadata": {},
   "outputs": [],
   "source": [
    "df_train = pd.read_csv('../data/processed/train_data.csv')\n",
    "df_test = pd.read_csv('../data/processed/test_data.csv')"
   ]
  },
  {
   "cell_type": "markdown",
   "id": "f4ba4b08-d58b-4f81-8313-3cd5cbce5f97",
   "metadata": {},
   "source": [
    "Splitting features and target"
   ]
  },
  {
   "cell_type": "code",
   "execution_count": 23,
   "id": "9df8cd6f-8541-4bf7-927a-f8c413efcf5e",
   "metadata": {},
   "outputs": [],
   "source": [
    "X = df_train.drop(columns = ['TARGET'])\n",
    "Y = df_train['TARGET']\n",
    "\n",
    "x_to_test = df_test"
   ]
  },
  {
   "cell_type": "markdown",
   "id": "5e8067c4-a114-4476-a173-54c41e0b232c",
   "metadata": {},
   "source": [
    "Split data into training and testing sets"
   ]
  },
  {
   "cell_type": "code",
   "execution_count": 4,
   "id": "4671ddab-ec18-4980-bb9b-d5617b32e434",
   "metadata": {},
   "outputs": [],
   "source": [
    "X_train, X_test, y_train, y_test = train_test_split(X, Y)"
   ]
  },
  {
   "cell_type": "code",
   "execution_count": 5,
   "id": "8bb9aa33-1451-46c7-867b-fe97c541f686",
   "metadata": {},
   "outputs": [
    {
     "name": "stdout",
     "output_type": "stream",
     "text": [
      "(117777, 216) (39259, 216) (117777,) (39259,)\n"
     ]
    }
   ],
   "source": [
    "print(X_train.shape, X_test.shape, y_train.shape, y_test.shape)"
   ]
  },
  {
   "cell_type": "markdown",
   "id": "536bf3d8-b787-418b-b0f4-ebe6f91b9482",
   "metadata": {},
   "source": [
    "## XGBOOST :"
   ]
  },
  {
   "cell_type": "code",
   "execution_count": 6,
   "id": "17f66488-7b57-4968-95d8-88d52481cfdf",
   "metadata": {},
   "outputs": [],
   "source": [
    "from xgboost import XGBClassifier"
   ]
  },
  {
   "cell_type": "markdown",
   "id": "4f333bd7-3525-4679-85f4-b3fa35e9b65b",
   "metadata": {},
   "source": [
    "Define the XGB model and fit it."
   ]
  },
  {
   "cell_type": "code",
   "execution_count": 7,
   "id": "46e7e8c9-85d8-49c1-aae8-5fc223fdeebb",
   "metadata": {},
   "outputs": [
    {
     "data": {
      "text/plain": [
       "XGBClassifier(base_score=0.5, booster='gbtree', colsample_bylevel=1,\n",
       "              colsample_bynode=1, colsample_bytree=1, enable_categorical=False,\n",
       "              eta=0.3, eval_metric='logloss', gamma=0, gpu_id=-1,\n",
       "              importance_type=None, interaction_constraints='',\n",
       "              learning_rate=0.300000012, max_delta_step=0, max_depth=6,\n",
       "              min_child_weight=1, missing=nan, monotone_constraints='()',\n",
       "              n_estimators=100, n_jobs=12, num_parallel_tree=1,\n",
       "              predictor='auto', random_state=0, reg_alpha=0, reg_lambda=1,\n",
       "              scale_pos_weight=1, subsample=1, tree_method='exact',\n",
       "              use_label_encoder=False, validate_parameters=1, ...)"
      ]
     },
     "execution_count": 7,
     "metadata": {},
     "output_type": "execute_result"
    }
   ],
   "source": [
    "XGB = XGBClassifier(objective='binary:logistic', eval_metric=\"logloss\", use_label_encoder=False, eta=0.3, subsample=1\n",
    "                           , colsample_bytree=1)\n",
    "XGB.fit(X_train, y_train)"
   ]
  },
  {
   "cell_type": "markdown",
   "id": "8fd56e1f-69df-49f4-95c8-7d3df52da9e4",
   "metadata": {},
   "source": [
    "Try a prediction on the testing set to compute results"
   ]
  },
  {
   "cell_type": "code",
   "execution_count": 8,
   "id": "31afc235-d6e0-429d-a6fe-60483570312f",
   "metadata": {},
   "outputs": [
    {
     "name": "stdout",
     "output_type": "stream",
     "text": [
      "0.9268957436511374\n"
     ]
    }
   ],
   "source": [
    "y_pred_xgb = XGB.predict(X_test)\n",
    "\n",
    "print(XGB.score(X_test,y_test))"
   ]
  },
  {
   "cell_type": "markdown",
   "id": "5b6aedb0-01e0-449d-8987-8267ab77b3f3",
   "metadata": {},
   "source": [
    "Print the confusion matrix :"
   ]
  },
  {
   "cell_type": "code",
   "execution_count": 9,
   "id": "88584f5b-f6dd-4f76-a7a9-6916cb98e273",
   "metadata": {},
   "outputs": [],
   "source": [
    "from sklearn.metrics import confusion_matrix\n",
    "\n",
    "cmXGB = confusion_matrix(y_test,y_pred_xgb)"
   ]
  },
  {
   "cell_type": "code",
   "execution_count": 10,
   "id": "b3f2e65a-f844-4247-be65-410b563addf2",
   "metadata": {},
   "outputs": [
    {
     "data": {
      "text/plain": [
       "<AxesSubplot:>"
      ]
     },
     "execution_count": 10,
     "metadata": {},
     "output_type": "execute_result"
    },
    {
     "data": {
      "image/png": "[encoded data removed]",
      "text/plain": [
       "<Figure size 432x288 with 2 Axes>"
      ]
     },
     "metadata": {
      "needs_background": "light"
     },
     "output_type": "display_data"
    }
   ],
   "source": [
    "sb.heatmap(cmXGB,annot=True, fmt='g')"
   ]
  },
  {
   "cell_type": "code",
   "execution_count": 11,
   "id": "44a49045-3897-4d7c-b8d1-5a6b3a2d362f",
   "metadata": {},
   "outputs": [
    {
     "name": "stdout",
     "output_type": "stream",
     "text": [
      "XGB accuracy : 0.9268957436511374\n",
      "XGB precision : 0.3879781420765027\n"
     ]
    }
   ],
   "source": [
    "print(\"XGB accuracy : \" + str(accuracy_score(y_test, y_pred_xgb)))\n",
    "print(\"XGB precision : \" + str(precision_score(y_test, y_pred_xgb)))"
   ]
  },
  {
   "cell_type": "markdown",
   "id": "38e9a611-589a-46f9-9e2b-eb97face7a74",
   "metadata": {},
   "source": [
    "We'll now try to predict values using the test dataset."
   ]
  },
  {
   "cell_type": "code",
   "execution_count": 31,
   "id": "1545f5a1-e9ee-42ff-9ba1-b3fa5dcda831",
   "metadata": {},
   "outputs": [
    {
     "data": {
      "text/html": [
       "<div>\n",
       "<style scoped>\n",
       "    .dataframe tbody tr th:only-of-type {\n",
       "        vertical-align: middle;\n",
       "    }\n",
       "\n",
       "    .dataframe tbody tr th {\n",
       "        vertical-align: top;\n",
       "    }\n",
       "\n",
       "    .dataframe thead th {\n",
       "        text-align: right;\n",
       "    }\n",
       "</style>\n",
       "<table border=\"1\" class=\"dataframe\">\n",
       "  <thead>\n",
       "    <tr style=\"text-align: right;\">\n",
       "      <th></th>\n",
       "      <th>Predicted value</th>\n",
       "    </tr>\n",
       "  </thead>\n",
       "  <tbody>\n",
       "    <tr>\n",
       "      <th>0</th>\n",
       "      <td>0</td>\n",
       "    </tr>\n",
       "    <tr>\n",
       "      <th>1</th>\n",
       "      <td>0</td>\n",
       "    </tr>\n",
       "    <tr>\n",
       "      <th>2</th>\n",
       "      <td>0</td>\n",
       "    </tr>\n",
       "    <tr>\n",
       "      <th>3</th>\n",
       "      <td>0</td>\n",
       "    </tr>\n",
       "    <tr>\n",
       "      <th>4</th>\n",
       "      <td>0</td>\n",
       "    </tr>\n",
       "  </tbody>\n",
       "</table>\n",
       "</div>"
      ],
      "text/plain": [
       "   Predicted value\n",
       "0                0\n",
       "1                0\n",
       "2                0\n",
       "3                0\n",
       "4                0"
      ]
     },
     "execution_count": 31,
     "metadata": {},
     "output_type": "execute_result"
    }
   ],
   "source": [
    "y_predict_XGB = XGB.predict(x_to_test)\n",
    "\n",
    "pd.DataFrame(y_predict_XGB, columns=['Predicted value']).head()"
   ]
  },
  {
   "cell_type": "markdown",
   "id": "52fae46b-82e8-4562-869b-cf309d813dc4",
   "metadata": {},
   "source": [
    "## RANDOM FOREST :"
   ]
  },
  {
   "cell_type": "code",
   "execution_count": 12,
   "id": "1dd65707-dd2a-4ce4-b28e-015e28f74f3b",
   "metadata": {},
   "outputs": [],
   "source": [
    "from sklearn.ensemble import RandomForestClassifier"
   ]
  },
  {
   "cell_type": "markdown",
   "id": "28fd7320-8fae-481d-be9d-bc3748b41eb4",
   "metadata": {},
   "source": [
    "Define the random forest classifier and train it"
   ]
  },
  {
   "cell_type": "code",
   "execution_count": 13,
   "id": "d237107e-97d3-4a04-956c-1034654f1111",
   "metadata": {},
   "outputs": [
    {
     "data": {
      "text/plain": [
       "RandomForestClassifier(n_estimators=200)"
      ]
     },
     "execution_count": 13,
     "metadata": {},
     "output_type": "execute_result"
    }
   ],
   "source": [
    "RFC = RandomForestClassifier(n_estimators=200)\n",
    "RFC.fit(X_train, y_train)"
   ]
  },
  {
   "cell_type": "markdown",
   "id": "cfdac3a1-2e6c-41a4-a543-bd13a8f0c1f5",
   "metadata": {},
   "source": [
    "Predict the results of the testing set and compare it to the real values."
   ]
  },
  {
   "cell_type": "code",
   "execution_count": 14,
   "id": "358bf201-f2b9-44b8-9666-ff57dfff4d3d",
   "metadata": {},
   "outputs": [
    {
     "name": "stdout",
     "output_type": "stream",
     "text": [
      "0.9279655620367304\n"
     ]
    }
   ],
   "source": [
    "y_pred_rfc = RFC.predict(X_test)\n",
    "\n",
    "print(RFC.score(X_test,y_test))"
   ]
  },
  {
   "cell_type": "code",
   "execution_count": 15,
   "id": "e17b3b36-0ee9-4058-aff3-6f6e9c57c06d",
   "metadata": {},
   "outputs": [
    {
     "data": {
      "text/plain": [
       "<AxesSubplot:>"
      ]
     },
     "execution_count": 15,
     "metadata": {},
     "output_type": "execute_result"
    },
    {
     "data": {
      "image/png": "[encoded data removed]",
      "text/plain": [
       "<Figure size 432x288 with 2 Axes>"
      ]
     },
     "metadata": {
      "needs_background": "light"
     },
     "output_type": "display_data"
    }
   ],
   "source": [
    "from sklearn.metrics import confusion_matrix\n",
    "\n",
    "cmRFC = confusion_matrix(y_test,y_pred_rfc)\n",
    "\n",
    "sb.heatmap(cmRFC,annot=True, fmt ='g')"
   ]
  },
  {
   "cell_type": "code",
   "execution_count": 16,
   "id": "8ec1d563-a223-4834-b64d-5c56d92dfb24",
   "metadata": {},
   "outputs": [
    {
     "name": "stdout",
     "output_type": "stream",
     "text": [
      "RFC accuracy : 0.9279655620367304\n",
      "RFC precision : 1.0\n"
     ]
    }
   ],
   "source": [
    "print(\"RFC accuracy : \" + str(accuracy_score(y_test, y_pred_rfc)))\n",
    "print(\"RFC precision : \" + str(precision_score(y_test, y_pred_rfc)))"
   ]
  },
  {
   "cell_type": "markdown",
   "id": "27cc6eba-eaed-4444-993e-8b3a1fb0f02c",
   "metadata": {},
   "source": [
    "We'll now try to predict values using the test dataset."
   ]
  },
  {
   "cell_type": "code",
   "execution_count": 30,
   "id": "f9fdef36-6fcb-44b7-a11c-df1e8ecd2266",
   "metadata": {},
   "outputs": [
    {
     "data": {
      "text/html": [
       "<div>\n",
       "<style scoped>\n",
       "    .dataframe tbody tr th:only-of-type {\n",
       "        vertical-align: middle;\n",
       "    }\n",
       "\n",
       "    .dataframe tbody tr th {\n",
       "        vertical-align: top;\n",
       "    }\n",
       "\n",
       "    .dataframe thead th {\n",
       "        text-align: right;\n",
       "    }\n",
       "</style>\n",
       "<table border=\"1\" class=\"dataframe\">\n",
       "  <thead>\n",
       "    <tr style=\"text-align: right;\">\n",
       "      <th></th>\n",
       "      <th>Predicted value</th>\n",
       "    </tr>\n",
       "  </thead>\n",
       "  <tbody>\n",
       "    <tr>\n",
       "      <th>0</th>\n",
       "      <td>0</td>\n",
       "    </tr>\n",
       "    <tr>\n",
       "      <th>1</th>\n",
       "      <td>0</td>\n",
       "    </tr>\n",
       "    <tr>\n",
       "      <th>2</th>\n",
       "      <td>0</td>\n",
       "    </tr>\n",
       "    <tr>\n",
       "      <th>3</th>\n",
       "      <td>0</td>\n",
       "    </tr>\n",
       "    <tr>\n",
       "      <th>4</th>\n",
       "      <td>0</td>\n",
       "    </tr>\n",
       "  </tbody>\n",
       "</table>\n",
       "</div>"
      ],
      "text/plain": [
       "   Predicted value\n",
       "0                0\n",
       "1                0\n",
       "2                0\n",
       "3                0\n",
       "4                0"
      ]
     },
     "execution_count": 30,
     "metadata": {},
     "output_type": "execute_result"
    }
   ],
   "source": [
    "y_predict_RFC = RFC.predict(x_to_test)\n",
    "\n",
    "pd.DataFrame(y_predict_RFC, columns=['Predicted value']).head()"
   ]
  },
  {
   "cell_type": "markdown",
   "id": "fafc96a6-be31-4304-828d-39a627b0339b",
   "metadata": {},
   "source": [
    "## GRADIENT BOOSTING :"
   ]
  },
  {
   "cell_type": "code",
   "execution_count": 17,
   "id": "ab06b153-c97b-464a-84e6-0162edefa98d",
   "metadata": {},
   "outputs": [],
   "source": [
    "from sklearn.ensemble import GradientBoostingClassifier"
   ]
  },
  {
   "cell_type": "markdown",
   "id": "f8792eaa-b85c-4373-83a3-acb01ea53448",
   "metadata": {},
   "source": [
    "Define the Gradient boosting classifier and train it"
   ]
  },
  {
   "cell_type": "code",
   "execution_count": 18,
   "id": "6139e29d-63c6-4e3d-99e2-b1299930c623",
   "metadata": {},
   "outputs": [
    {
     "data": {
      "text/plain": [
       "GradientBoostingClassifier()"
      ]
     },
     "execution_count": 18,
     "metadata": {},
     "output_type": "execute_result"
    }
   ],
   "source": [
    "GBC = GradientBoostingClassifier()\n",
    "GBC.fit(X_train, y_train)"
   ]
  },
  {
   "cell_type": "markdown",
   "id": "62d13ee7-b334-43b1-95e2-103a702a4780",
   "metadata": {},
   "source": [
    "Predict the values and compare it to real values"
   ]
  },
  {
   "cell_type": "code",
   "execution_count": 19,
   "id": "39b5b512-12dd-4a04-80fd-e180b430be54",
   "metadata": {},
   "outputs": [
    {
     "name": "stdout",
     "output_type": "stream",
     "text": [
      "0.927710843373494\n"
     ]
    }
   ],
   "source": [
    "y_pred_GBC = GBC.predict(X_test)\n",
    "\n",
    "print(GBC.score(X_test,y_test))"
   ]
  },
  {
   "cell_type": "code",
   "execution_count": 20,
   "id": "03889cb6-7bfe-473d-80a5-4f4c9838d95d",
   "metadata": {},
   "outputs": [
    {
     "data": {
      "text/plain": [
       "<AxesSubplot:>"
      ]
     },
     "execution_count": 20,
     "metadata": {},
     "output_type": "execute_result"
    },
    {
     "data": {
      "image/png": "[encoded data removed]",
      "text/plain": [
       "<Figure size 432x288 with 2 Axes>"
      ]
     },
     "metadata": {
      "needs_background": "light"
     },
     "output_type": "display_data"
    }
   ],
   "source": [
    "from sklearn.metrics import classification_report, confusion_matrix\n",
    "\n",
    "cmGBC = confusion_matrix(y_test,y_pred_GBC)\n",
    "\n",
    "sb.heatmap(cmGBC,annot=True, fmt='g')"
   ]
  },
  {
   "cell_type": "code",
   "execution_count": 21,
   "id": "cb2e141e-7bcc-4fd9-a783-335d941fca33",
   "metadata": {},
   "outputs": [
    {
     "name": "stdout",
     "output_type": "stream",
     "text": [
      "GBC accuracy : 0.927710843373494\n",
      "GBC precision : 0.4262295081967213\n"
     ]
    }
   ],
   "source": [
    "print(\"GBC accuracy : \" + str(accuracy_score(y_test, y_pred_GBC)))\n",
    "print(\"GBC precision : \" + str(precision_score(y_test, y_pred_GBC)))"
   ]
  },
  {
   "cell_type": "markdown",
   "id": "4a83bcb0-8009-4fb5-bfca-e56de456d152",
   "metadata": {},
   "source": [
    "We'll now try to predict values using the test dataset."
   ]
  },
  {
   "cell_type": "code",
   "execution_count": 32,
   "id": "3f7b1232-010d-4e0f-834c-85aadd1bac32",
   "metadata": {},
   "outputs": [
    {
     "data": {
      "text/html": [
       "<div>\n",
       "<style scoped>\n",
       "    .dataframe tbody tr th:only-of-type {\n",
       "        vertical-align: middle;\n",
       "    }\n",
       "\n",
       "    .dataframe tbody tr th {\n",
       "        vertical-align: top;\n",
       "    }\n",
       "\n",
       "    .dataframe thead th {\n",
       "        text-align: right;\n",
       "    }\n",
       "</style>\n",
       "<table border=\"1\" class=\"dataframe\">\n",
       "  <thead>\n",
       "    <tr style=\"text-align: right;\">\n",
       "      <th></th>\n",
       "      <th>Predicted value</th>\n",
       "    </tr>\n",
       "  </thead>\n",
       "  <tbody>\n",
       "    <tr>\n",
       "      <th>0</th>\n",
       "      <td>0</td>\n",
       "    </tr>\n",
       "    <tr>\n",
       "      <th>1</th>\n",
       "      <td>0</td>\n",
       "    </tr>\n",
       "    <tr>\n",
       "      <th>2</th>\n",
       "      <td>0</td>\n",
       "    </tr>\n",
       "    <tr>\n",
       "      <th>3</th>\n",
       "      <td>0</td>\n",
       "    </tr>\n",
       "    <tr>\n",
       "      <th>4</th>\n",
       "      <td>0</td>\n",
       "    </tr>\n",
       "  </tbody>\n",
       "</table>\n",
       "</div>"
      ],
      "text/plain": [
       "   Predicted value\n",
       "0                0\n",
       "1                0\n",
       "2                0\n",
       "3                0\n",
       "4                0"
      ]
     },
     "execution_count": 32,
     "metadata": {},
     "output_type": "execute_result"
    }
   ],
   "source": [
    "y_predict_GBC = GBC.predict(x_to_test)\n",
    "\n",
    "pd.DataFrame(y_predict_GBC, columns=['Predicted value']).head()"
   ]
  },
  {
   "cell_type": "code",
   "execution_count": null,
   "id": "36ac7fd5-3f40-49d9-bc01-2dde2f18c6b8",
   "metadata": {},
   "outputs": [],
   "source": []
  }
 ],
 "metadata": {
  "kernelspec": {
   "display_name": "Python 3 (ipykernel)",
   "language": "python",
   "name": "python3"
  },
  "language_info": {
   "codemirror_mode": {
    "name": "ipython",
    "version": 3
   },
   "file_extension": ".py",
   "mimetype": "text/x-python",
   "name": "python",
   "nbconvert_exporter": "python",
   "pygments_lexer": "ipython3",
   "version": "3.9.0"
  }
 },
 "nbformat": 4,
 "nbformat_minor": 5
}
