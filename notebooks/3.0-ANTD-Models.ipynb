{
 "cells": [
  {
   "cell_type": "markdown",
   "id": "f777baf0-c9e7-4c23-889b-eceebd3aae24",
   "metadata": {},
   "source": [
    "# MODELS BUILDING, TRAINING AND TESTING- NOUAR Alexandre & DURA Théo"
   ]
  },
  {
   "cell_type": "markdown",
   "id": "c8369914-56e9-4c0e-b1de-0b4a7b327f20",
   "metadata": {},
   "source": [
    "## Imports and data :"
   ]
  },
  {
   "cell_type": "code",
   "execution_count": 111,
   "id": "0f63a31c-5712-49d8-b859-2e2da7b6ddbe",
   "metadata": {},
   "outputs": [],
   "source": [
    "import pandas as pd\n",
    "from sklearn.model_selection import train_test_split\n",
    "import seaborn as sb\n",
    "import numpy as np\n",
    "import pickle\n",
    "import matplotlib.pyplot\n",
    "\n",
    "import mlflow\n",
    "import mlflow.xgboost"
   ]
  },
  {
   "cell_type": "code",
   "execution_count": 51,
   "id": "8b685c8d-3a95-48cc-a165-df1373806cab",
   "metadata": {},
   "outputs": [],
   "source": [
    "df_train = pd.read_csv('../data/processed/train_data.csv')\n",
    "df_test = pd.read_csv('../data/processed/test_data.csv')"
   ]
  },
  {
   "cell_type": "code",
   "execution_count": 52,
   "id": "9df8cd6f-8541-4bf7-927a-f8c413efcf5e",
   "metadata": {},
   "outputs": [],
   "source": [
    "X = df_train.drop(columns = ['TARGET', 'Unnamed: 0'])\n",
    "Y = df_train['TARGET']"
   ]
  },
  {
   "cell_type": "code",
   "execution_count": 53,
   "id": "4671ddab-ec18-4980-bb9b-d5617b32e434",
   "metadata": {},
   "outputs": [],
   "source": [
    "X_train, X_test, y_train, y_test = train_test_split(X, Y)\n",
    "\n",
    "x_totest = df_test.drop(columns=['Unnamed: 0'])"
   ]
  },
  {
   "cell_type": "code",
   "execution_count": 54,
   "id": "8bb9aa33-1451-46c7-867b-fe97c541f686",
   "metadata": {},
   "outputs": [
    {
     "name": "stdout",
     "output_type": "stream",
     "text": [
      "(117777, 216) (39259, 216) (117777,) (39259,)\n"
     ]
    }
   ],
   "source": [
    "print(X_train.shape, X_test.shape, y_train.shape, y_test.shape)"
   ]
  },
  {
   "cell_type": "markdown",
   "id": "536bf3d8-b787-418b-b0f4-ebe6f91b9482",
   "metadata": {},
   "source": [
    "## XGBOOST :"
   ]
  },
  {
   "cell_type": "code",
   "execution_count": 1,
   "id": "17f66488-7b57-4968-95d8-88d52481cfdf",
   "metadata": {},
   "outputs": [],
   "source": [
    "from xgboost import XGBClassifier"
   ]
  },
  {
   "cell_type": "code",
   "execution_count": 108,
   "id": "46e7e8c9-85d8-49c1-aae8-5fc223fdeebb",
   "metadata": {},
   "outputs": [
    {
     "data": {
      "text/plain": [
       "XGBClassifier(base_score=0.5, booster='gbtree', colsample_bylevel=1,\n",
       "              colsample_bynode=1, colsample_bytree=1, enable_categorical=False,\n",
       "              eval_metric='mlogloss', gamma=0, gpu_id=-1, importance_type=None,\n",
       "              interaction_constraints='', learning_rate=0.300000012,\n",
       "              max_delta_step=0, max_depth=6, min_child_weight=1, missing=nan,\n",
       "              monotone_constraints='()', n_estimators=100, n_jobs=12,\n",
       "              num_parallel_tree=1, predictor='auto', random_state=0,\n",
       "              reg_alpha=0, reg_lambda=1, scale_pos_weight=1, subsample=1,\n",
       "              tree_method='exact', use_label_encoder=False,\n",
       "              validate_parameters=1, verbosity=None)"
      ]
     },
     "execution_count": 108,
     "metadata": {},
     "output_type": "execute_result"
    }
   ],
   "source": [
    "XGB = XGBClassifier(objective = \"binary:logistic\",eval_metric=\"mlogloss\", use_label_encoder=False)\n",
    "XGB.fit(X_train, y_train)"
   ]
  },
  {
   "cell_type": "code",
   "execution_count": 109,
   "id": "31afc235-d6e0-429d-a6fe-60483570312f",
   "metadata": {},
   "outputs": [
    {
     "name": "stdout",
     "output_type": "stream",
     "text": [
      "0.9284240556305561\n"
     ]
    }
   ],
   "source": [
    "y_pred_xgb = XGB.predict(X_test)\n",
    "\n",
    "print(XGB.score(X_test,y_test))"
   ]
  },
  {
   "cell_type": "code",
   "execution_count": 114,
   "id": "88584f5b-f6dd-4f76-a7a9-6916cb98e273",
   "metadata": {},
   "outputs": [
    {
     "name": "stdout",
     "output_type": "stream",
     "text": [
      "[36364   124]\n"
     ]
    }
   ],
   "source": [
    "from sklearn.metrics import classification_report, confusion_matrix\n",
    "\n",
    "cmXGB = confusion_matrix(y_test,y_pred_xgb)\n",
    "\n",
    "print(cmXGB[0])"
   ]
  },
  {
   "cell_type": "code",
   "execution_count": 124,
   "id": "b3f2e65a-f844-4247-be65-410b563addf2",
   "metadata": {},
   "outputs": [
    {
     "data": {
      "text/plain": [
       "<AxesSubplot:>"
      ]
     },
     "execution_count": 124,
     "metadata": {},
     "output_type": "execute_result"
    },
    {
     "data": {
      "image/png": "[encoded data removed]",
      "text/plain": [
       "<Figure size 432x288 with 2 Axes>"
      ]
     },
     "metadata": {
      "needs_background": "light"
     },
     "output_type": "display_data"
    }
   ],
   "source": [
    "sb.heatmap(cmXGB,annot=True, fmt='g')\n"
   ]
  },
  {
   "cell_type": "markdown",
   "id": "52fae46b-82e8-4562-869b-cf309d813dc4",
   "metadata": {},
   "source": [
    "## RANDOM FOREST :"
   ]
  },
  {
   "cell_type": "code",
   "execution_count": 11,
   "id": "1dd65707-dd2a-4ce4-b28e-015e28f74f3b",
   "metadata": {},
   "outputs": [],
   "source": [
    "from sklearn.ensemble import RandomForestClassifier"
   ]
  },
  {
   "cell_type": "code",
   "execution_count": 90,
   "id": "d237107e-97d3-4a04-956c-1034654f1111",
   "metadata": {},
   "outputs": [
    {
     "data": {
      "text/plain": [
       "RandomForestClassifier(n_estimators=200)"
      ]
     },
     "execution_count": 90,
     "metadata": {},
     "output_type": "execute_result"
    }
   ],
   "source": [
    "RFC = RandomForestClassifier(n_estimators=200)\n",
    "RFC.fit(X_train, y_train)"
   ]
  },
  {
   "cell_type": "code",
   "execution_count": 88,
   "id": "358bf201-f2b9-44b8-9666-ff57dfff4d3d",
   "metadata": {},
   "outputs": [
    {
     "name": "stdout",
     "output_type": "stream",
     "text": [
      "0.9294684021498255\n"
     ]
    }
   ],
   "source": [
    "y_pred_rfc = RFC.predict(X_test)\n",
    "\n",
    "print(RFC.score(X_test,y_test))"
   ]
  },
  {
   "cell_type": "code",
   "execution_count": 96,
   "id": "e17b3b36-0ee9-4058-aff3-6f6e9c57c06d",
   "metadata": {},
   "outputs": [
    {
     "data": {
      "text/plain": [
       "<AxesSubplot:>"
      ]
     },
     "execution_count": 96,
     "metadata": {},
     "output_type": "execute_result"
    },
    {
     "data": {
      "image/png": "[encoded data removed]",
      "text/plain": [
       "<Figure size 432x288 with 2 Axes>"
      ]
     },
     "metadata": {
      "needs_background": "light"
     },
     "output_type": "display_data"
    }
   ],
   "source": [
    "from sklearn.metrics import confusion_matrix\n",
    "\n",
    "cmRFC = confusion_matrix(y_test,y_pred_rfc)\n",
    "\n",
    "sb.heatmap(cmRFC,annot=True, fmt ='g')"
   ]
  },
  {
   "cell_type": "markdown",
   "id": "fafc96a6-be31-4304-828d-39a627b0339b",
   "metadata": {},
   "source": [
    "## GRADIENT BOOSTING :"
   ]
  },
  {
   "cell_type": "code",
   "execution_count": 61,
   "id": "ab06b153-c97b-464a-84e6-0162edefa98d",
   "metadata": {},
   "outputs": [],
   "source": [
    "from sklearn.ensemble import GradientBoostingClassifier"
   ]
  },
  {
   "cell_type": "code",
   "execution_count": 62,
   "id": "6139e29d-63c6-4e3d-99e2-b1299930c623",
   "metadata": {},
   "outputs": [
    {
     "data": {
      "text/plain": [
       "GradientBoostingClassifier()"
      ]
     },
     "execution_count": 62,
     "metadata": {},
     "output_type": "execute_result"
    }
   ],
   "source": [
    "GBC = GradientBoostingClassifier()\n",
    "GBC.fit(X_train, y_train)"
   ]
  },
  {
   "cell_type": "code",
   "execution_count": 81,
   "id": "39b5b512-12dd-4a04-80fd-e180b430be54",
   "metadata": {},
   "outputs": [
    {
     "name": "stdout",
     "output_type": "stream",
     "text": [
      "0.9292646272192363\n"
     ]
    }
   ],
   "source": [
    "y_pred_GBC = GBC.predict(X_test)\n",
    "\n",
    "print(GBC.score(X_test,y_test))"
   ]
  },
  {
   "cell_type": "code",
   "execution_count": 98,
   "id": "03889cb6-7bfe-473d-80a5-4f4c9838d95d",
   "metadata": {},
   "outputs": [
    {
     "data": {
      "text/plain": [
       "<AxesSubplot:>"
      ]
     },
     "execution_count": 98,
     "metadata": {},
     "output_type": "execute_result"
    },
    {
     "data": {
      "image/png": "[encoded data removed]",
      "text/plain": [
       "<Figure size 432x288 with 2 Axes>"
      ]
     },
     "metadata": {
      "needs_background": "light"
     },
     "output_type": "display_data"
    }
   ],
   "source": [
    "from sklearn.metrics import classification_report, confusion_matrix\n",
    "\n",
    "cmGBC = confusion_matrix(y_test,y_pred_GBC)\n",
    "\n",
    "sb.heatmap(cmGBC,annot=True, fmt='g')"
   ]
  }
 ],
 "metadata": {
  "kernelspec": {
   "display_name": "Python 3 (ipykernel)",
   "language": "python",
   "name": "python3"
  },
  "language_info": {
   "codemirror_mode": {
    "name": "ipython",
    "version": 3
   },
   "file_extension": ".py",
   "mimetype": "text/x-python",
   "name": "python",
   "nbconvert_exporter": "python",
   "pygments_lexer": "ipython3",
   "version": "3.9.0"
  }
 },
 "nbformat": 4,
 "nbformat_minor": 5
}
